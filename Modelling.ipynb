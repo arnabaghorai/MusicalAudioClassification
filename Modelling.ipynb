{
  "nbformat": 4,
  "nbformat_minor": 0,
  "metadata": {
    "colab": {
      "name": "Modelling.ipynb",
      "provenance": [],
      "collapsed_sections": []
    },
    "kernelspec": {
      "name": "python3",
      "display_name": "Python 3"
    },
    "accelerator": "GPU"
  },
  "cells": [
    {
      "cell_type": "code",
      "metadata": {
        "id": "fNDyyGbJrlMB",
        "colab_type": "code",
        "colab": {}
      },
      "source": [
        "import os\n",
        "from scipy.io import wavfile\n",
        "import pandas as pd\n",
        "import matplotlib.pyplot as plt\n",
        "import numpy as np\n",
        "from keras.layers import Conv2D, MaxPool2D, Flatten, LSTM , BatchNormalization\n",
        "from keras.layers import Dropout, Dense, TimeDistributed\n",
        "from keras.models import Sequential\n",
        "from keras.utils import to_categorical\n",
        "from sklearn.utils.class_weight import compute_class_weight\n",
        "from tqdm import tqdm\n",
        "from python_speech_features import mfcc"
      ],
      "execution_count": 0,
      "outputs": []
    },
    {
      "cell_type": "code",
      "metadata": {
        "id": "pERyuOFFuA_X",
        "colab_type": "code",
        "colab": {}
      },
      "source": [
        "class Config :\n",
        "    def __init__(self , mode = 'conv' , nfilt = 26 , n_feat = 13 , nfft = 512 , rate = 16000):\n",
        "        self.mode = mode\n",
        "        self.nfilt = nfilt\n",
        "        self.n_feat = n_feat\n",
        "        self.nfft = nfft\n",
        "        self.rate = rate\n",
        "        self.step = int(rate/10)"
      ],
      "execution_count": 0,
      "outputs": []
    },
    {
      "cell_type": "code",
      "metadata": {
        "id": "00lE1GM_wMVK",
        "colab_type": "code",
        "colab": {}
      },
      "source": [
        "\n"
      ],
      "execution_count": 0,
      "outputs": []
    },
    {
      "cell_type": "code",
      "metadata": {
        "id": "uIVN4MffrwaX",
        "colab_type": "code",
        "outputId": "a8604bb4-48b8-4f06-8c89-975b8ab7129f",
        "colab": {
          "base_uri": "https://localhost:8080/",
          "height": 285
        }
      },
      "source": [
        "df = pd.read_csv('instruments.csv')\n",
        "df.set_index('fname', inplace=True)\n",
        "\n",
        "for f in df.index:\n",
        "    rate, signal = wavfile.read('clean/'+f)\n",
        "    df.at[f, 'length'] = signal.shape[0]/rate\n",
        "\n",
        "classes = list(np.unique(df.label))\n",
        "class_dist = df.groupby(['label'])['length'].mean()\n",
        "\n",
        "fig, ax = plt.subplots()\n",
        "ax.set_title('Class Distribution', y=1.08)\n",
        "ax.pie(class_dist, labels=class_dist.index, autopct='%1.1f%%',\n",
        "       shadow=False, startangle=90)\n",
        "ax.axis('equal')\n",
        "plt.show()\n",
        "\n",
        "####Reading from clean dir , after preprocessing the audio#####"
      ],
      "execution_count": 0,
      "outputs": [
        {
          "output_type": "display_data",
          "data": {
            "image/png": "[encoded data removed]",
            "text/plain": [
              "<Figure size 432x288 with 1 Axes>"
            ]
          },
          "metadata": {
            "tags": []
          }
        }
      ]
    },
    {
      "cell_type": "code",
      "metadata": {
        "id": "-OTJfW04r-Rp",
        "colab_type": "code",
        "colab": {}
      },
      "source": [
        "n_samples = 2*int(df['length'].sum()/0.1)"
      ],
      "execution_count": 0,
      "outputs": []
    },
    {
      "cell_type": "code",
      "metadata": {
        "id": "YgXEvylTs1nT",
        "colab_type": "code",
        "outputId": "0793ae61-f86e-4e99-966d-48a92bc86cc7",
        "colab": {
          "base_uri": "https://localhost:8080/",
          "height": 235
        }
      },
      "source": [
        "prob_dist = class_dist/class_dist.sum()  ##Everything between 0-1\n",
        "prob_dist"
      ],
      "execution_count": 0,
      "outputs": [
        {
          "output_type": "execute_result",
          "data": {
            "text/plain": [
              "label\n",
              "Acoustic_guitar     0.125490\n",
              "Bass_drum           0.023364\n",
              "Cello               0.110363\n",
              "Clarinet            0.133404\n",
              "Double_bass         0.065382\n",
              "Flute               0.159950\n",
              "Hi-hat              0.064699\n",
              "Saxophone           0.155962\n",
              "Snare_drum          0.064010\n",
              "Violin_or_fiddle    0.097375\n",
              "Name: length, dtype: float64"
            ]
          },
          "metadata": {
            "tags": []
          },
          "execution_count": 8
        }
      ]
    },
    {
      "cell_type": "code",
      "metadata": {
        "id": "MCINnGqGvJ63",
        "colab_type": "code",
        "outputId": "e1781444-c198-4629-f814-4b6f6bbf9457",
        "colab": {
          "base_uri": "https://localhost:8080/",
          "height": 35
        }
      },
      "source": [
        "choices = np.random.choice(class_dist.index , p = prob_dist) \n",
        "print(choices)  ##selects a random choice based on probability distribution of class_dist "
      ],
      "execution_count": 0,
      "outputs": [
        {
          "output_type": "stream",
          "text": [
            "Flute\n"
          ],
          "name": "stdout"
        }
      ]
    },
    {
      "cell_type": "code",
      "metadata": {
        "id": "2oDiAhp6tmHe",
        "colab_type": "code",
        "colab": {}
      },
      "source": [
        "config = Config(mode = 'conv')\n"
      ],
      "execution_count": 0,
      "outputs": []
    },
    {
      "cell_type": "code",
      "metadata": {
        "id": "2A8aTpGew34b",
        "colab_type": "code",
        "colab": {}
      },
      "source": [
        "def build_random_feat():\n",
        "    X=[]\n",
        "    y=[]\n",
        "    _min , _max = float('inf') , -float('inf')\n",
        "    \n",
        "    for _ in (range(n_samples)):\n",
        "        random_class = np.random.choice(class_dist.index , p = prob_dist) ##randomly select a class\n",
        "        file = np.random.choice(df[df.label == random_class].index) ##select a random file for the slected class\n",
        "        rate , wav = wavfile.read(filename = 'clean/'+file)\n",
        "        label = df.at[file , 'label']\n",
        "        rand_index = np.random.randint(0,wav.shape[0]- config.step)\n",
        "\n",
        "        sample = wav[rand_index : rand_index + config.step]\n",
        "\n",
        "        X_sample = mfcc(sample , numcep=config.n_feat,nfilt=config.nfilt,nfft = config.nfft ).T\n",
        "        \n",
        "        \n",
        "        _min = min(np.amin(X_sample) , _min)\n",
        "        _max = max(np.amax(X_sample) , _max)\n",
        "        \n",
        "        X.append(X_sample if config.mode =='conv' else X_sample.T)\n",
        "        y.append(classes.index(label))\n",
        "        \n",
        "       \n",
        "    X , y = np.array(X) , np.array(y)\n",
        "    X = (X - _min)/(_max - _min )\n",
        "\n",
        "       \n",
        "\n",
        "    if config.mode == 'conv' :\n",
        "            X = X.reshape(X.shape[0] , X.shape[1] , X.shape[2] , 1)\n",
        "    elif config.mode == 'rnn' :\n",
        "            X = X.reshape(X.shape[0] , X.shape[1] , X.shape[2])\n",
        "    y = to_categorical(y , num_classes=10)\n",
        "\n",
        "    return X , y\n",
        "\n",
        "\n"
      ],
      "execution_count": 0,
      "outputs": []
    },
    {
      "cell_type": "code",
      "metadata": {
        "id": "yIICPDbPE1l1",
        "colab_type": "code",
        "colab": {}
      },
      "source": [
        "##set config mode\n",
        "config.mode = 'rnn'"
      ],
      "execution_count": 0,
      "outputs": []
    },
    {
      "cell_type": "code",
      "metadata": {
        "id": "sEdyl8wXu5ZF",
        "colab_type": "code",
        "colab": {}
      },
      "source": [
        "if config.mode == 'conv':\n",
        "    X , y = build_random_feat()\n",
        "elif config.mode == 'rnn':\n",
        "    X , y = build_random_feat()"
      ],
      "execution_count": 0,
      "outputs": []
    },
    {
      "cell_type": "code",
      "metadata": {
        "id": "xZCKavKhwHtP",
        "colab_type": "code",
        "colab": {}
      },
      "source": [
        "import pickle\n",
        "\n",
        "pickle_out = open(\"X_{0}.pickle\".format(config.mode),\"wb\")\n",
        "pickle.dump(X, pickle_out)\n",
        "pickle_out.close()\n",
        "\n",
        "pickle_out = open(\"y_{0}.pickle\".format(config.mode),\"wb\")\n",
        "pickle.dump(y, pickle_out)\n",
        "pickle_out.close()\n",
        "\n"
      ],
      "execution_count": 0,
      "outputs": []
    },
    {
      "cell_type": "code",
      "metadata": {
        "id": "0r4Bl-t4Hvx0",
        "colab_type": "code",
        "colab": {}
      },
      "source": [
        ""
      ],
      "execution_count": 0,
      "outputs": []
    },
    {
      "cell_type": "code",
      "metadata": {
        "id": "HtT6DCkOMaJs",
        "colab_type": "code",
        "colab": {}
      },
      "source": [
        "########################Training###################"
      ],
      "execution_count": 0,
      "outputs": []
    },
    {
      "cell_type": "code",
      "metadata": {
        "id": "zXNBXBpLYiza",
        "colab_type": "code",
        "colab": {}
      },
      "source": [
        ""
      ],
      "execution_count": 0,
      "outputs": []
    },
    {
      "cell_type": "code",
      "metadata": {
        "id": "p1TAWXJHH8Cz",
        "colab_type": "code",
        "colab": {}
      },
      "source": [
        "def get_conv_model() :\n",
        "    model = Sequential()\n",
        "    model.add(Conv2D(16 , (3,3), strides=(1,1), padding = 'same' , activation = 'relu' , input_shape = input_shape))\n",
        "    model.add(BatchNormalization())\n",
        "    model.add(Conv2D(32 , (3,3), strides=(1,1), padding = 'same' , activation = 'relu' ))\n",
        "    model.add(BatchNormalization())\n",
        "    model.add(Conv2D(64 , (3,3), strides=(1,1), padding = 'same' , activation = 'relu' ))\n",
        "    model.add(BatchNormalization())\n",
        "    model.add(Conv2D(128 , (3,3), strides=(1,1), padding = 'same' , activation = 'relu' ))\n",
        "    model.add(MaxPool2D((2,2)))\n",
        "    model.add(Dropout(0.35))\n",
        "    model.add(Flatten())\n",
        "    model.add(Dense(128 , activation = 'relu'))\n",
        "    model.add(Dense(64 , activation = 'relu'))\n",
        "    model.add(Dense(32 , activation = 'relu'))\n",
        "    model.add(Dense(10 , activation = 'softmax'))\n",
        "\n",
        "    model.summary()\n",
        "    model.compile(loss = 'categorical_crossentropy' , optimizer = 'adam' , metrics = ['acc'])\n",
        "\n",
        "    return model\n"
      ],
      "execution_count": 0,
      "outputs": []
    },
    {
      "cell_type": "code",
      "metadata": {
        "id": "LcbdyW5W61YW",
        "colab_type": "code",
        "colab": {}
      },
      "source": [
        "def get_rnn_model() :\n",
        "    model = Sequential()\n",
        "    model.add(LSTM(128 , return_sequences=True , input_shape = input_shape))\n",
        "    model.add(LSTM(128 ,return_sequences=True ))\n",
        "    model.add(Dropout(0.5))\n",
        "    model.add(TimeDistributed(Dense(64 , activation='relu')))\n",
        "    model.add(TimeDistributed(Dense(32 , activation='relu')))\n",
        "    model.add(TimeDistributed(Dense(16 , activation='relu')))\n",
        "    model.add(TimeDistributed(Dense(8 , activation='relu')))\n",
        "    model.add(Flatten())\n",
        "    model.add(Dense(10 , activation ='softmax'))\n",
        "    model.compile(loss = 'categorical_crossentropy' , optimizer = 'adam' , metrics = ['acc'])\n",
        "    #model.summary()\n",
        "\n",
        "    return model"
      ],
      "execution_count": 0,
      "outputs": []
    },
    {
      "cell_type": "code",
      "metadata": {
        "id": "nUpAGR40-JYN",
        "colab_type": "code",
        "colab": {}
      },
      "source": [
        ""
      ],
      "execution_count": 0,
      "outputs": []
    },
    {
      "cell_type": "code",
      "metadata": {
        "id": "mxyN6sZnM-Zk",
        "colab_type": "code",
        "colab": {}
      },
      "source": [
        "if config.mode == 'conv' :\n",
        "    pickle_in = open(\"X_conv.pickle\",\"rb\")\n",
        "    X_conv = pickle.load(pickle_in)\n",
        "    pickle_in.close()\n",
        "\n",
        "    pickle_in = open(\"y_conv.pickle\",\"rb\")\n",
        "    y_conv = pickle.load(pickle_in)\n",
        "    pickle_in.close()\n",
        "\n",
        "    y_flat = np.argmax(y_conv,axis = 1)\n",
        "\n",
        "    input_shape = (X_conv.shape[1] , X_conv.shape[2], 1)\n",
        "\n",
        "    model = get_conv_model()\n",
        "elif config.mode == 'rnn' :\n",
        "    pickle_in = open(\"X_rnn.pickle\",\"rb\")\n",
        "    X_rnn = pickle.load(pickle_in)\n",
        "    pickle_in.close()\n",
        "\n",
        "    pickle_in = open(\"y_rnn.pickle\",\"rb\")\n",
        "    y_rnn = pickle.load(pickle_in)\n",
        "    pickle_in.close()\n",
        "\n",
        "    y_flat = np.argmax(y_rnn,axis = 1)\n",
        "\n",
        "    input_shape = (X_rnn.shape[1] , X_rnn.shape[2])\n",
        "\n",
        "    rnn_model = get_rnn_model()\n",
        "\n",
        "\n"
      ],
      "execution_count": 0,
      "outputs": []
    },
    {
      "cell_type": "code",
      "metadata": {
        "id": "MYW2SlDR_Swk",
        "colab_type": "code",
        "outputId": "272d600c-51d0-4e25-ddcb-3e9beb64fdf3",
        "colab": {
          "base_uri": "https://localhost:8080/",
          "height": 472
        }
      },
      "source": [
        "rnn_model.summary()"
      ],
      "execution_count": 0,
      "outputs": [
        {
          "output_type": "stream",
          "text": [
            "_________________________________________________________________\n",
            "Layer (type)                 Output Shape              Param #   \n",
            "=================================================================\n",
            "lstm_3 (LSTM)                (None, 9, 128)            72704     \n",
            "_________________________________________________________________\n",
            "lstm_4 (LSTM)                (None, 9, 128)            131584    \n",
            "_________________________________________________________________\n",
            "dropout_5 (Dropout)          (None, 9, 128)            0         \n",
            "_________________________________________________________________\n",
            "time_distributed_5 (TimeDist (None, 9, 64)             8256      \n",
            "_________________________________________________________________\n",
            "time_distributed_6 (TimeDist (None, 9, 32)             2080      \n",
            "_________________________________________________________________\n",
            "time_distributed_7 (TimeDist (None, 9, 16)             528       \n",
            "_________________________________________________________________\n",
            "time_distributed_8 (TimeDist (None, 9, 8)              136       \n",
            "_________________________________________________________________\n",
            "flatten_5 (Flatten)          (None, 72)                0         \n",
            "_________________________________________________________________\n",
            "dense_22 (Dense)             (None, 10)                730       \n",
            "=================================================================\n",
            "Total params: 216,018\n",
            "Trainable params: 216,018\n",
            "Non-trainable params: 0\n",
            "_________________________________________________________________\n"
          ],
          "name": "stdout"
        }
      ]
    },
    {
      "cell_type": "code",
      "metadata": {
        "id": "ToK7h3i4PdSX",
        "colab_type": "code",
        "colab": {}
      },
      "source": [
        "class_weight = compute_class_weight('balanced' , np.unique(y_flat) , y_flat)\n",
        "\n"
      ],
      "execution_count": 0,
      "outputs": []
    },
    {
      "cell_type": "code",
      "metadata": {
        "id": "YerRs9THNmNI",
        "colab_type": "code",
        "outputId": "fce6e934-845b-4472-a961-98f81f3a50d8",
        "colab": {
          "base_uri": "https://localhost:8080/",
          "height": 399
        }
      },
      "source": [
        "model.fit(X , y , epochs = 20 , batch_size = 2048 , shuffle = True , class_weight =  class_weight)"
      ],
      "execution_count": 0,
      "outputs": [
        {
          "output_type": "stream",
          "text": [
            "Epoch 1/10\n",
            "26410/26410 [==============================] - 2s 78us/step - loss: 0.2565 - acc: 0.9146\n",
            "Epoch 2/10\n",
            "26410/26410 [==============================] - 2s 76us/step - loss: 0.2317 - acc: 0.9220\n",
            "Epoch 3/10\n",
            "26410/26410 [==============================] - 2s 76us/step - loss: 0.2143 - acc: 0.9276\n",
            "Epoch 4/10\n",
            "26410/26410 [==============================] - 2s 76us/step - loss: 0.2047 - acc: 0.9307\n",
            "Epoch 5/10\n",
            "26410/26410 [==============================] - 2s 76us/step - loss: 0.1852 - acc: 0.9383\n",
            "Epoch 6/10\n",
            "26410/26410 [==============================] - 2s 76us/step - loss: 0.1647 - acc: 0.9453\n",
            "Epoch 7/10\n",
            "26410/26410 [==============================] - 2s 76us/step - loss: 0.1495 - acc: 0.9507\n",
            "Epoch 8/10\n",
            "26410/26410 [==============================] - 2s 76us/step - loss: 0.1431 - acc: 0.9527\n",
            "Epoch 9/10\n",
            "26410/26410 [==============================] - 2s 76us/step - loss: 0.1266 - acc: 0.9579\n",
            "Epoch 10/10\n",
            "26410/26410 [==============================] - 2s 76us/step - loss: 0.1208 - acc: 0.9607\n"
          ],
          "name": "stdout"
        },
        {
          "output_type": "execute_result",
          "data": {
            "text/plain": [
              "<keras.callbacks.History at 0x7f0866ab25f8>"
            ]
          },
          "metadata": {
            "tags": []
          },
          "execution_count": 120
        }
      ]
    },
    {
      "cell_type": "code",
      "metadata": {
        "id": "B7luFaPQX1gD",
        "colab_type": "code",
        "colab": {}
      },
      "source": [
        "model.save(\"speech_conv.h5\")"
      ],
      "execution_count": 0,
      "outputs": []
    },
    {
      "cell_type": "code",
      "metadata": {
        "id": "rnkfadED133Q",
        "colab_type": "code",
        "outputId": "4924511f-f942-4e93-cdc5-5e4f9b1b4853",
        "colab": {
          "base_uri": "https://localhost:8080/",
          "height": 399
        }
      },
      "source": [
        "rnn_model.fit(X , y , epochs = 50 , batch_size = 4096 , shuffle = True , class_weight =  class_weight)"
      ],
      "execution_count": 0,
      "outputs": [
        {
          "output_type": "stream",
          "text": [
            "Epoch 1/10\n",
            "26410/26410 [==============================] - 1s 32us/step - loss: 0.7125 - acc: 0.7604\n",
            "Epoch 2/10\n",
            "26410/26410 [==============================] - 1s 31us/step - loss: 0.6987 - acc: 0.7666\n",
            "Epoch 3/10\n",
            "26410/26410 [==============================] - 1s 31us/step - loss: 0.6871 - acc: 0.7679\n",
            "Epoch 4/10\n",
            "26410/26410 [==============================] - 1s 31us/step - loss: 0.6773 - acc: 0.7731\n",
            "Epoch 5/10\n",
            "26410/26410 [==============================] - 1s 31us/step - loss: 0.6654 - acc: 0.7772\n",
            "Epoch 6/10\n",
            "26410/26410 [==============================] - 1s 31us/step - loss: 0.6511 - acc: 0.7817\n",
            "Epoch 7/10\n",
            "26410/26410 [==============================] - 1s 31us/step - loss: 0.6667 - acc: 0.7764\n",
            "Epoch 8/10\n",
            "26410/26410 [==============================] - 1s 31us/step - loss: 0.6473 - acc: 0.7820\n",
            "Epoch 9/10\n",
            "26410/26410 [==============================] - 1s 31us/step - loss: 0.6461 - acc: 0.7798\n",
            "Epoch 10/10\n",
            "26410/26410 [==============================] - 1s 31us/step - loss: 0.6119 - acc: 0.7952\n"
          ],
          "name": "stdout"
        },
        {
          "output_type": "execute_result",
          "data": {
            "text/plain": [
              "<keras.callbacks.History at 0x7f0861f88198>"
            ]
          },
          "metadata": {
            "tags": []
          },
          "execution_count": 148
        }
      ]
    },
    {
      "cell_type": "code",
      "metadata": {
        "id": "SU_D7K131sLE",
        "colab_type": "code",
        "colab": {}
      },
      "source": [
        "rnn_model.save(\"speech_rnn.h5\")"
      ],
      "execution_count": 0,
      "outputs": []
    },
    {
      "cell_type": "code",
      "metadata": {
        "id": "L4HpzZNs12GW",
        "colab_type": "code",
        "colab": {}
      },
      "source": [
        ""
      ],
      "execution_count": 0,
      "outputs": []
    },
    {
      "cell_type": "code",
      "metadata": {
        "id": "GUSnWQbU2GcQ",
        "colab_type": "code",
        "colab": {}
      },
      "source": [
        ""
      ],
      "execution_count": 0,
      "outputs": []
    },
    {
      "cell_type": "code",
      "metadata": {
        "id": "VApPzjvm2Nw6",
        "colab_type": "code",
        "colab": {}
      },
      "source": [
        ""
      ],
      "execution_count": 0,
      "outputs": []
    }
  ]
}